{
 "cells": [
  {
   "cell_type": "code",
   "execution_count": 92,
   "metadata": {},
   "outputs": [],
   "source": [
    "from scipy.stats import pearsonr\n",
    "# list to store the generated random numbers\n",
    "lcg_random_number = []"
   ]
  },
  {
   "cell_type": "markdown",
   "metadata": {},
   "source": [
    "# Linear Congruential Generator (LCG)"
   ]
  },
  {
   "cell_type": "code",
   "execution_count": 93,
   "metadata": {},
   "outputs": [],
   "source": [
    "def lcg_random(seed, modulus=2**32, a=1664525, c=1013904223):\n",
    "    # Linear Congruential Generator (LCG) formula: X_{n+1} = (a * X_n + c) % m\n",
    "    # This generates a sequence of pseudo-random numbers\n",
    "    seed = (a * seed + c) % modulus\n",
    "    return (seed) \n",
    "\n",
    "\n",
    "def generate_random_number_lcg(rand_num):\n",
    "    if (rand_num % 3) == 0:\n",
    "        lcg_random_number.append(rand_num % 3)\n",
    "    elif (rand_num % 3) == 1:\n",
    "        lcg_random_number.append(rand_num % 3)\n",
    "    elif (rand_num % 3) == 2:\n",
    "        lcg_random_number.append(rand_num % 3)\n",
    "    print (f\"Random value: {rand_num}\")\n",
    "    print (f\"Randomly selected number: {rand_num % 3}\")"
   ]
  },
  {
   "cell_type": "code",
   "execution_count": 94,
   "metadata": {},
   "outputs": [],
   "source": [
    "new_rand_val_lcg = lcg_random(seed = 12587)"
   ]
  },
  {
   "cell_type": "code",
   "execution_count": 95,
   "metadata": {},
   "outputs": [
    {
     "name": "stdout",
     "output_type": "stream",
     "text": [
      "Random value: 4152627861\n",
      "Randomly selected number: 0\n",
      "Random value: 1041777392\n",
      "Randomly selected number: 2\n",
      "Random value: 2546334095\n",
      "Randomly selected number: 2\n",
      "Random value: 836934050\n",
      "Randomly selected number: 2\n",
      "Random value: 251219097\n",
      "Randomly selected number: 0\n",
      "Random value: 3465399588\n",
      "Randomly selected number: 0\n",
      "Random value: 1105376819\n",
      "Randomly selected number: 2\n",
      "Random value: 3028649462\n",
      "Randomly selected number: 2\n",
      "Random value: 2946286813\n",
      "Randomly selected number: 1\n",
      "Random value: 3614048408\n",
      "Randomly selected number: 2\n",
      "Random value: 2011532055\n",
      "Randomly selected number: 0\n",
      "Random value: 1572941194\n",
      "Randomly selected number: 1\n",
      "Random value: 1776107361\n",
      "Randomly selected number: 0\n",
      "Random value: 4100247884\n",
      "Randomly selected number: 2\n",
      "Random value: 1096670267\n",
      "Randomly selected number: 2\n",
      "Random value: 1974838366\n",
      "Randomly selected number: 1\n",
      "Random value: 2740174885\n",
      "Randomly selected number: 1\n",
      "Random value: 2849731392\n",
      "Randomly selected number: 0\n",
      "Random value: 2378124703\n",
      "Randomly selected number: 1\n",
      "Random value: 1016741490\n",
      "Randomly selected number: 0\n",
      "Random value: 3729230633\n",
      "Randomly selected number: 2\n",
      "Random value: 2659474036\n",
      "Randomly selected number: 1\n",
      "Random value: 3666199363\n",
      "Randomly selected number: 1\n",
      "Random value: 2995883974\n",
      "Randomly selected number: 1\n",
      "Random value: 1467098221\n",
      "Randomly selected number: 1\n",
      "Random value: 3059956456\n",
      "Randomly selected number: 1\n",
      "Random value: 3382272295\n",
      "Randomly selected number: 1\n",
      "Random value: 314403930\n",
      "Randomly selected number: 0\n",
      "Random value: 1040404465\n",
      "Randomly selected number: 1\n",
      "Random value: 2197620892\n",
      "Randomly selected number: 1\n",
      "Random value: 2347928395\n",
      "Randomly selected number: 1\n",
      "Random value: 2509432878\n",
      "Randomly selected number: 0\n",
      "Random value: 166007221\n",
      "Randomly selected number: 1\n",
      "Random value: 3167483792\n",
      "Randomly selected number: 2\n",
      "Random value: 1149101487\n",
      "Randomly selected number: 0\n",
      "Random value: 1315854146\n",
      "Randomly selected number: 2\n",
      "Random value: 3024072121\n",
      "Randomly selected number: 1\n",
      "Random value: 3119741892\n",
      "Randomly selected number: 0\n",
      "Random value: 3342881875\n",
      "Randomly selected number: 1\n",
      "Random value: 946294166\n",
      "Randomly selected number: 2\n",
      "Random value: 3594364925\n",
      "Randomly selected number: 2\n",
      "Random value: 372525368\n",
      "Randomly selected number: 2\n",
      "Random value: 1488649015\n",
      "Randomly selected number: 1\n",
      "Random value: 3328483114\n",
      "Randomly selected number: 1\n",
      "Random value: 4061119617\n",
      "Randomly selected number: 0\n",
      "Random value: 2118636\n",
      "Randomly selected number: 0\n",
      "Random value: 1368342107\n",
      "Randomly selected number: 2\n",
      "Random value: 2322620414\n",
      "Randomly selected number: 2\n",
      "Random value: 1781598021\n",
      "Randomly selected number: 0\n",
      "Random value: 3750678496\n",
      "Randomly selected number: 1\n",
      "Random value: 3395469759\n",
      "Randomly selected number: 0\n",
      "Random value: 3360416786\n",
      "Randomly selected number: 2\n",
      "Random value: 3941250121\n",
      "Randomly selected number: 1\n",
      "Random value: 1229992212\n",
      "Randomly selected number: 0\n",
      "Random value: 3020122467\n",
      "Randomly selected number: 0\n",
      "Random value: 121880422\n",
      "Randomly selected number: 1\n",
      "Random value: 1243107213\n",
      "Randomly selected number: 0\n",
      "Random value: 1948396424\n",
      "Randomly selected number: 2\n",
      "Random value: 4291516743\n",
      "Randomly selected number: 0\n",
      "Random value: 4148413946\n",
      "Randomly selected number: 2\n",
      "Random value: 556506385\n",
      "Randomly selected number: 1\n",
      "Random value: 2732831548\n",
      "Randomly selected number: 1\n",
      "Random value: 3158635883\n",
      "Randomly selected number: 2\n",
      "Random value: 1026231246\n",
      "Randomly selected number: 0\n",
      "Random value: 2775621845\n",
      "Randomly selected number: 2\n",
      "Random value: 940112944\n",
      "Randomly selected number: 1\n",
      "Random value: 1242489295\n",
      "Randomly selected number: 1\n",
      "Random value: 4200588514\n",
      "Randomly selected number: 1\n",
      "Random value: 2190581465\n",
      "Randomly selected number: 2\n",
      "Random value: 1716484708\n",
      "Randomly selected number: 1\n",
      "Random value: 218104435\n",
      "Randomly selected number: 1\n",
      "Random value: 597943606\n",
      "Randomly selected number: 1\n",
      "Random value: 3143310109\n",
      "Randomly selected number: 1\n",
      "Random value: 2998002136\n",
      "Randomly selected number: 1\n",
      "Random value: 1032551255\n",
      "Randomly selected number: 2\n",
      "Random value: 4213694666\n",
      "Randomly selected number: 2\n",
      "Random value: 3569342881\n",
      "Randomly selected number: 1\n",
      "Random value: 3147572876\n",
      "Randomly selected number: 2\n",
      "Random value: 3194269819\n",
      "Randomly selected number: 1\n",
      "Random value: 1105193886\n",
      "Randomly selected number: 0\n",
      "Random value: 3474775653\n",
      "Randomly selected number: 0\n",
      "Random value: 4183784576\n",
      "Randomly selected number: 2\n",
      "Random value: 442713567\n",
      "Randomly selected number: 0\n",
      "Random value: 4095170994\n",
      "Randomly selected number: 0\n",
      "Random value: 2981981545\n",
      "Randomly selected number: 1\n",
      "Random value: 1810257844\n",
      "Randomly selected number: 1\n",
      "Random value: 245833603\n",
      "Randomly selected number: 1\n",
      "Random value: 2772745990\n",
      "Randomly selected number: 1\n",
      "Random value: 2896104109\n",
      "Randomly selected number: 1\n",
      "Random value: 1772645416\n",
      "Randomly selected number: 1\n",
      "Random value: 1157390695\n",
      "Randomly selected number: 1\n",
      "Random value: 3474845594\n",
      "Randomly selected number: 2\n",
      "Random value: 343243313\n",
      "Randomly selected number: 2\n",
      "Random value: 64925148\n",
      "Randomly selected number: 0\n",
      "Random value: 578776971\n",
      "Randomly selected number: 0\n",
      "Random value: 2817261422\n",
      "Randomly selected number: 2\n",
      "Random value: 3169763317\n",
      "Randomly selected number: 1\n",
      "Random value: 3019329744\n",
      "Randomly selected number: 0\n",
      "Random value: 3464556015\n",
      "Randomly selected number: 0\n",
      "Random value: 1411334786\n",
      "Randomly selected number: 2\n"
     ]
    }
   ],
   "source": [
    "for i in range(100):\n",
    "    new_rand_val_lcg = lcg_random(new_rand_val_lcg)\n",
    "    generate_random_number_lcg(new_rand_val_lcg)\n",
    "    "
   ]
  },
  {
   "cell_type": "markdown",
   "metadata": {},
   "source": [
    "## Multiple Recursive Generator (MRG)"
   ]
  },
  {
   "cell_type": "code",
   "execution_count": 96,
   "metadata": {},
   "outputs": [],
   "source": [
    "# creating a list to store the generated random numbers by MRG method\n",
    "mrg_random_number = []\n",
    "seed_list_global = []"
   ]
  },
  {
   "cell_type": "code",
   "execution_count": 97,
   "metadata": {},
   "outputs": [],
   "source": [
    "def mrg_random(seed_list, modulus=2**32, coefficients=[1664525, 1013904223, 1287, 124877]):\n",
    "    # Multiple Recursive Generator (MRG) formula: \n",
    "    # X_{n+1} = (a1 * X_{n} + a2 * X_{n-1} + ... + ak * X_{n-k+1}) % m\n",
    "    if len(seed_list) != len(coefficients):\n",
    "        raise ValueError(\"Length of seed_list and coefficients must match\")\n",
    "\n",
    "    new_seed = sum(a * x for a, x in zip(coefficients, seed_list)) % modulus\n",
    "    \n",
    "    # Update seed list to hold the latest values\n",
    "    seed_list = seed_list[1:] + [new_seed]\n",
    "    \n",
    "    return new_seed, seed_list  # Return the new seed and updated seed list\n",
    "\n",
    "def generate_random_number_mrg(rand_num):\n",
    "    if (rand_num % 3) == 0:\n",
    "        mrg_random_number.append(rand_num % 3)\n",
    "    elif (rand_num % 3) == 1:\n",
    "        mrg_random_number.append(rand_num % 3)\n",
    "    else:\n",
    "        mrg_random_number.append(rand_num % 3)\n",
    "    #print (f\"Random value: {rand_num}\")\n",
    "    #print (f\"Randomly selected number: {rand_num % 3}\")"
   ]
  },
  {
   "cell_type": "markdown",
   "metadata": {},
   "source": [
    "#### Selected prime numbers"
   ]
  },
  {
   "cell_type": "code",
   "execution_count": 98,
   "metadata": {},
   "outputs": [
    {
     "name": "stdout",
     "output_type": "stream",
     "text": [
      "Selected set of prime number are: [11997, 4001, 1011, 1999]\n"
     ]
    }
   ],
   "source": [
    "selected_prime = [11997, 4001, 1011, 1999]\n",
    "print (f\"Selected set of prime number are: {selected_prime}\")"
   ]
  },
  {
   "cell_type": "markdown",
   "metadata": {},
   "source": [
    "#### Getting the permutations of the selected prime numbers"
   ]
  },
  {
   "cell_type": "code",
   "execution_count": 99,
   "metadata": {},
   "outputs": [
    {
     "name": "stdout",
     "output_type": "stream",
     "text": [
      "(11997, 4001, 1011, 1999)\n",
      "(11997, 4001, 1999, 1011)\n",
      "(11997, 1011, 4001, 1999)\n",
      "(11997, 1011, 1999, 4001)\n",
      "(11997, 1999, 4001, 1011)\n",
      "(11997, 1999, 1011, 4001)\n",
      "(4001, 11997, 1011, 1999)\n",
      "(4001, 11997, 1999, 1011)\n",
      "(4001, 1011, 11997, 1999)\n",
      "(4001, 1011, 1999, 11997)\n",
      "(4001, 1999, 11997, 1011)\n",
      "(4001, 1999, 1011, 11997)\n",
      "(1011, 11997, 4001, 1999)\n",
      "(1011, 11997, 1999, 4001)\n",
      "(1011, 4001, 11997, 1999)\n",
      "(1011, 4001, 1999, 11997)\n",
      "(1011, 1999, 11997, 4001)\n",
      "(1011, 1999, 4001, 11997)\n",
      "(1999, 11997, 4001, 1011)\n",
      "(1999, 11997, 1011, 4001)\n",
      "(1999, 4001, 11997, 1011)\n",
      "(1999, 4001, 1011, 11997)\n",
      "(1999, 1011, 11997, 4001)\n",
      "(1999, 1011, 4001, 11997)\n",
      "Number of possible permutations are: 24\n"
     ]
    }
   ],
   "source": [
    "from itertools import permutations\n",
    "# getting the permutations list\n",
    "random_seeds = permutations(selected_prime)\n",
    "# setting a length variable\n",
    "length_rand_seeds = 0\n",
    "# printing the permuted list\n",
    "for i in random_seeds:\n",
    "    print (i)\n",
    "    length_rand_seeds = length_rand_seeds + 1\n",
    "# printing the length of random seeds possibilities\n",
    "print (f\"Number of possible permutations are: {length_rand_seeds}\")"
   ]
  },
  {
   "cell_type": "code",
   "execution_count": 100,
   "metadata": {},
   "outputs": [],
   "source": [
    "def get_rand_seq_mrg (seed_list):\n",
    "    seed_list_global = seed_list\n",
    "    for i in range(100):\n",
    "        new_rand_num , seed_list_new = mrg_random(seed_list_global)\n",
    "        generate_random_number_mrg(new_rand_num)\n",
    "        seed_list_global = seed_list_new\n",
    "        #print (seed_list_global)\n",
    "    return mrg_random_number"
   ]
  },
  {
   "cell_type": "code",
   "execution_count": 101,
   "metadata": {},
   "outputs": [],
   "source": [
    "# generating two random sequences using different seed list\n",
    "rand_seq_01 = get_rand_seq_mrg([11997, 4001, 1011, 1999]).copy()\n",
    "mrg_random_number.clear()\n",
    "seed_list_global.clear()"
   ]
  },
  {
   "cell_type": "code",
   "execution_count": 102,
   "metadata": {},
   "outputs": [],
   "source": [
    "rand_seq_02 = get_rand_seq_mrg([11997, 4001, 1999, 1011]).copy()\n",
    "mrg_random_number.clear()\n",
    "seed_list_global.clear()"
   ]
  },
  {
   "cell_type": "code",
   "execution_count": 103,
   "metadata": {},
   "outputs": [
    {
     "data": {
      "text/plain": [
       "False"
      ]
     },
     "execution_count": 103,
     "metadata": {},
     "output_type": "execute_result"
    }
   ],
   "source": [
    "rand_seq_01 == rand_seq_02"
   ]
  },
  {
   "cell_type": "code",
   "execution_count": 104,
   "metadata": {},
   "outputs": [
    {
     "name": "stdout",
     "output_type": "stream",
     "text": [
      "Pearson correlation coefficient: 0.17626775902881262\n",
      "P-value: 0.07938255173517282\n"
     ]
    }
   ],
   "source": [
    "# Calculate the Pearson correlation coefficient and the p-value\n",
    "correlation, p_value = pearsonr(rand_seq_01, rand_seq_02)\n",
    "# get the correlation between two random number sequences\n",
    "print(f\"Pearson correlation coefficient: {correlation}\")\n",
    "print(f\"P-value: {p_value}\")"
   ]
  }
 ],
 "metadata": {
  "kernelspec": {
   "display_name": "Python 3",
   "language": "python",
   "name": "python3"
  },
  "language_info": {
   "codemirror_mode": {
    "name": "ipython",
    "version": 3
   },
   "file_extension": ".py",
   "mimetype": "text/x-python",
   "name": "python",
   "nbconvert_exporter": "python",
   "pygments_lexer": "ipython3",
   "version": "3.10.9"
  }
 },
 "nbformat": 4,
 "nbformat_minor": 2
}
